{
 "cells": [
  {
   "cell_type": "markdown",
   "metadata": {},
   "source": [
    "<table>\n",
    "<tr><td><img style=\"height: 150px;\" src=\"images/geo_hydro1.jpg\"></td>\n",
    "<td bgcolor=\"#FFFFFF\">\n",
    "    <p style=\"font-size: xx-large; font-weight: 900; line-height: 100%\">AG Dynamics of the Earth</p>\n",
    "    <p style=\"font-size: large; color: rgba(0,0,0,0.5);\">Juypter notebooks</p>\n",
    "    <p style=\"font-size: large; color: rgba(0,0,0,0.5);\">Georg Kaufmann</p>\n",
    "    </td>\n",
    "</tr>\n",
    "</table>"
   ]
  },
  {
   "cell_type": "markdown",
   "metadata": {},
   "source": [
    "# Image processing\n",
    "----\n",
    "*Georg Kaufmann,\n",
    "Geophysics Section,\n",
    "Institute of Geological Sciences,\n",
    "Freie Universität Berlin,\n",
    "Germany*\n",
    "\n",
    "**jupyter notebooks** on **image processing** and **image filtering**. \n",
    "\n",
    "\n",
    "\n",
    "----\n",
    "## Content\n",
    "\n",
    "- Loading and filtering images\n",
    "    - [Load](01_image_load.ipynb)\n",
    "    - [Channels](01_image_channels.ipynb)\n",
    "    - [Grayscale](01_image_grayscale.ipynb)\n",
    "    - [Convolution filter](01_image_convolution.ipynb)\n",
    "    - [FFT filter](01_image_FFT.ipynb)\n",
    "- Synthetic images\n",
    "    - [Creating image from functions](02_functions_create.ipynb)\n",
    "    - [Recover functions from image](02_functions_recover.ipynb)\n",
    "- Geophysical data to image\n",
    "    - [Walpenreuth to image](03_geophys_Walpenreuth1.ipynb)\n",
    "    - [Walpenreuth recovered](03_geophys_Walpenreuth2.ipynb)\n",
    "- ASCII art\n",
    "    - [Ascii art](04_ascii1.ipynb)"
   ]
  },
  {
   "cell_type": "markdown",
   "metadata": {},
   "source": [
    "----"
   ]
  }
 ],
 "metadata": {
  "kernelspec": {
   "display_name": "Python 3 (ipykernel)",
   "language": "python",
   "name": "python3"
  },
  "language_info": {
   "codemirror_mode": {
    "name": "ipython",
    "version": 3
   },
   "file_extension": ".py",
   "mimetype": "text/x-python",
   "name": "python",
   "nbconvert_exporter": "python",
   "pygments_lexer": "ipython3",
   "version": "3.11.3"
  }
 },
 "nbformat": 4,
 "nbformat_minor": 4
}
