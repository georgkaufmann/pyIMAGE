{
 "cells": [
  {
   "cell_type": "markdown",
   "id": "f7578f23",
   "metadata": {},
   "source": [
    "<table>\n",
    "<tr><td><img style=\"height: 150px;\" src=\"images/geo_hydro1.jpg\"></td>\n",
    "<td bgcolor=\"#FFFFFF\">\n",
    "    <p style=\"font-size: xx-large; font-weight: 900; line-height: 100%\">pyIMAGE</p>\n",
    "    <p style=\"font-size: large; color: rgba(0,0,0,0.5);\"><b style=color:red;>Image</b> analysis</p>\n",
    "    <p style=\"font-size: large; color: rgba(0,0,0,0.5);\">Georg Kaufmann</p>\n",
    "    </td>\n",
    "<td><img style=\"height: 150px;\" src=\"images/pyIMAGE.png\"></td>\n",
    "</tr>\n",
    "</table>"
   ]
  },
  {
   "cell_type": "markdown",
   "id": "5a3c4e3c",
   "metadata": {},
   "source": [
    "----\n",
    "# Image processing: PIL library ans Exif tags"
   ]
  },
  {
   "cell_type": "code",
   "execution_count": 4,
   "id": "5ccfbe6d",
   "metadata": {
    "tags": []
   },
   "outputs": [],
   "source": [
    "import PIL\n",
    "import PIL.Image\n",
    "import PIL.ExifTags"
   ]
  },
  {
   "cell_type": "markdown",
   "id": "86ad337e",
   "metadata": {},
   "source": [
    "In this notebook, we use the `PIL` library the read an image, and then recover the exif metadata in the\n",
    "image and manipulate it.\n",
    "\n",
    "We first define an image, then check with the external `file` command its content:\n",
    "- PNG ([portable network graphics](https://de.wikipedia.org/wiki/Portable_Network_Graphics)) data format\n",
    "- 4928 x 3264 pixel\n",
    "- 8-bit depth\n",
    "- 4 channels, red/green/(blue and an alpha channel (RGBA) "
   ]
  },
  {
   "cell_type": "code",
   "execution_count": 20,
   "id": "943b1e8f",
   "metadata": {
    "tags": []
   },
   "outputs": [
    {
     "name": "stdout",
     "output_type": "stream",
     "text": [
      "images/Amrum.png: PNG image data, 4928 x 3264, 8-bit/color RGBA, non-interlaced\n"
     ]
    }
   ],
   "source": [
    "#image file name\n",
    "infile='images/Amrum.png'\n",
    "\n",
    "!file images/Amrum.png"
   ]
  },
  {
   "cell_type": "markdown",
   "id": "00ab5e5a-6fb0-43fb-8df3-6f56a85f8447",
   "metadata": {},
   "source": [
    "----\n",
    "## PIL library\n",
    "We use the `PIL` (python image library) library to load, manipulate, andsave an image.\n",
    "\n",
    "We first load the png image defined above into the `image` variable..."
   ]
  },
  {
   "cell_type": "code",
   "execution_count": 21,
   "id": "70c18ad4-4bc6-4156-8157-7d4c9f6c15ad",
   "metadata": {
    "tags": []
   },
   "outputs": [
    {
     "name": "stdout",
     "output_type": "stream",
     "text": [
      "<PIL.PngImagePlugin.PngImageFile image mode=RGBA size=4928x3264 at 0x10599EF90>\n"
     ]
    }
   ],
   "source": [
    "image = PIL.Image.open(infile)\n",
    "print(image)"
   ]
  },
  {
   "cell_type": "markdown",
   "id": "44d11ebf-399c-4ef1-b2ad-f90d4eca749d",
   "metadata": {},
   "source": [
    "### Image properties\n",
    "We check some image properties, e.g.\n",
    "- width and height\n",
    "- file name\n",
    "- file description"
   ]
  },
  {
   "cell_type": "code",
   "execution_count": 22,
   "id": "9b6cf23c-0d87-44cf-9f44-011b95ed057e",
   "metadata": {
    "tags": []
   },
   "outputs": [
    {
     "name": "stdout",
     "output_type": "stream",
     "text": [
      "size:                (4928, 3264)\n",
      "width,height:        4928 3264\n",
      "filename:            images/Amrum.png\n",
      "format:              PNG\n",
      "format_description:  Portable network graphics\n"
     ]
    }
   ],
   "source": [
    "print('size:               ',image.size)\n",
    "width, height = image.size \n",
    "print('width,height:       ',width,height)\n",
    "print('filename:           ',image.filename)\n",
    "print('format:             ',image.format)\n",
    "print('format_description: ',image.format_description)"
   ]
  },
  {
   "cell_type": "markdown",
   "id": "199e64c8-6c37-4fcf-a91d-9dcd5ca4e306",
   "metadata": {},
   "source": [
    "### Resizing\n",
    "We resize the image, then rotate it"
   ]
  },
  {
   "cell_type": "code",
   "execution_count": 23,
   "id": "4c66d2fb-78d5-49ca-9b63-f4a22c2c4371",
   "metadata": {
    "tags": []
   },
   "outputs": [
    {
     "name": "stdout",
     "output_type": "stream",
     "text": [
      "<PIL.Image.Image image mode=RGBA size=1232x816 at 0x106025F90>\n"
     ]
    }
   ],
   "source": [
    "newsize = (int(width/4),int(height/4))\n",
    "image = image.resize(newsize)\n",
    "print(image)"
   ]
  },
  {
   "cell_type": "markdown",
   "id": "8010240e-1cde-4f8f-b98e-2d96c67ab07b",
   "metadata": {},
   "source": [
    "### Displaying\n",
    "We display the image, both with an external viewer, and in the notebook:"
   ]
  },
  {
   "cell_type": "code",
   "execution_count": null,
   "id": "131706b6-952b-48d6-be7d-cd19f57d1ae5",
   "metadata": {
    "tags": []
   },
   "outputs": [],
   "source": [
    "# show image with external viewerx\n",
    "image.show()\n",
    "# show image inline\n",
    "display(image)"
   ]
  },
  {
   "cell_type": "markdown",
   "id": "28df1774-cc73-405d-8296-ce5e92bad627",
   "metadata": {},
   "source": [
    "### Converting\n",
    "We change the `png` image to `jpg`. As jpg files have no transparency channel, we first need to convert the image\n",
    "from `RGBA` to `RGB`, then save it as jpg."
   ]
  },
  {
   "cell_type": "code",
   "execution_count": 24,
   "id": "a7fdde79-a0d0-44f9-8df5-c2e26add9172",
   "metadata": {
    "tags": []
   },
   "outputs": [
    {
     "name": "stdout",
     "output_type": "stream",
     "text": [
      "<PIL.Image.Image image mode=RGB size=1232x816 at 0x1059A9B90>\n"
     ]
    }
   ],
   "source": [
    "if image.mode != 'RGB':\n",
    "    image = image.convert('RGB')\n",
    "image.save('images/Amrum.jpg','jpeg')\n",
    "print(image)"
   ]
  },
  {
   "cell_type": "markdown",
   "id": "a79f2a19-4f83-4725-ba3d-269c93fd2808",
   "metadata": {},
   "source": [
    "### Extracting `exif` metadata \n",
    "We use the `ExifTags` package to extract exif information from the image.\n",
    "\n",
    "The exif metadata are stored in a special block at the beginning of the image file. \n",
    "\n",
    "The `tagid` is basically the pointer to the starting block of a specific information in the metadata block."
   ]
  },
  {
   "cell_type": "code",
   "execution_count": 25,
   "id": "8ba4783f-6b36-49ce-aa89-44bbda763465",
   "metadata": {
    "tags": []
   },
   "outputs": [
    {
     "name": "stdout",
     "output_type": "stream",
     "text": [
      "     34853: GPSInfo                  : 35496\n",
      "       296: ResolutionUnit           : 2\n",
      "     34665: ExifOffset               : 228\n",
      "       271: Make                     : NIKON CORPORATION\n",
      "       272: Model                    : NIKON D5100\n",
      "       305: Software                 : Ver.1.01 \n",
      "       274: Orientation              : 1\n",
      "       306: DateTime                 : 2018:10:03 15:19:14\n",
      "       531: YCbCrPositioning         : 2\n",
      "       282: XResolution              : 300.0\n",
      "       283: YResolution              : 300.0\n"
     ]
    }
   ],
   "source": [
    "# extracting the exif metadata\n",
    "exifdata = image.getexif()\n",
    " \n",
    "# looping through all the tags present in exifdata\n",
    "for tagid in exifdata:\n",
    "     \n",
    "    # getting the tag name instead of tag id\n",
    "    tagname = PIL.ExifTags.TAGS.get(tagid, tagid)\n",
    " \n",
    "    # passing the tagid to get its respective value\n",
    "    tagvalue = exifdata.get(tagid)\n",
    "   \n",
    "    # printing the final result\n",
    "    print(f\"{tagid:10}: {tagname:25}: {tagvalue}\")"
   ]
  },
  {
   "cell_type": "markdown",
   "id": "11467aa1-b792-43c6-8681-3a01e169f420",
   "metadata": {},
   "source": [
    "### Changing exif metadata\n",
    "We now change some exif data.\n",
    "\n",
    "We first read selected exif metadata by using a list of `tagid` values. Note\n",
    "that `Artist` and `Copyright` are empty .."
   ]
  },
  {
   "cell_type": "code",
   "execution_count": 26,
   "id": "7166db0f-bb72-4094-abc5-afab9b9b0b25",
   "metadata": {
    "tags": []
   },
   "outputs": [
    {
     "name": "stdout",
     "output_type": "stream",
     "text": [
      "271 Make NIKON CORPORATION\n",
      "272 Model NIKON D5100\n",
      "306 DateTime 2018:10:03 15:19:14\n",
      "36867 DateTimeOriginal None\n",
      "315 Artist None\n",
      "33432 Copyright None\n",
      "37510 UserComment None\n"
     ]
    }
   ],
   "source": [
    "for tagid in [271,272,306,36867,315,33432,37510]:\n",
    "    tagname = PIL.ExifTags.TAGS.get(tagid, tagid)\n",
    "    tagvalue = exifdata.get(tagid)\n",
    "    print(tagid,tagname,tagvalue)"
   ]
  },
  {
   "cell_type": "markdown",
   "id": "89c3ff81-9804-490f-8bc3-ff6584aaccfc",
   "metadata": {},
   "source": [
    "We add `Artist` and `Copyright` information by changing the selected exif tags in the exif data set read earlier, \n",
    "then save the updated `exifdata` object to a new file."
   ]
  },
  {
   "cell_type": "code",
   "execution_count": 27,
   "id": "17fd512b-253d-4c23-9313-a8863b1183fd",
   "metadata": {
    "tags": []
   },
   "outputs": [],
   "source": [
    "exifdata[315] = 'Georg Kaufmann'\n",
    "exifdata[33432] = '(c) Georg Kaufmann'\n",
    "exifdata[37510] = 'xmin,ymin,xmax,ymax: 11,12,13,14 dx,dy: xx'\n",
    "\n",
    "output_file = 'images/out.png'\n",
    "image.save(output_file, exif=exifdata)"
   ]
  },
  {
   "cell_type": "markdown",
   "id": "1db847ad-9627-4819-a59a-d9c3e556497f",
   "metadata": {},
   "source": [
    "We check the new image exif data ..."
   ]
  },
  {
   "cell_type": "code",
   "execution_count": 33,
   "id": "17514c67-07c2-494a-91e1-1ac2ffd3581f",
   "metadata": {
    "tags": []
   },
   "outputs": [
    {
     "name": "stdout",
     "output_type": "stream",
     "text": [
      "     34853: GPSInfo                  : 35560\n",
      "     37510: UserComment              : xmin,ymin,xmax,ymax: 11,12,13,14 dx,dy: xx\n",
      "       296: ResolutionUnit           : 2\n",
      "     34665: ExifOffset               : 294\n",
      "       271: Make                     : NIKON CORPORATION\n",
      "       272: Model                    : NIKON D5100\n",
      "       305: Software                 : Ver.1.01 \n",
      "       274: Orientation              : 1\n",
      "       306: DateTime                 : 2018:10:03 15:19:14\n",
      "       531: YCbCrPositioning         : 2\n",
      "       283: YResolution              : 300.0\n",
      "     33432: Copyright                : (c) Georg Kaufmann\n",
      "       282: XResolution              : 300.0\n",
      "       315: Artist                   : Georg Kaufmann\n"
     ]
    }
   ],
   "source": [
    "image2 = PIL.Image.open('images/out.png')\n",
    "# extracting the exif metadata\n",
    "exifdata = image2.getexif()\n",
    " \n",
    "# looping through all the tags present in exifdata\n",
    "for tagid in exifdata:\n",
    "     \n",
    "    # getting the tag name instead of tag id\n",
    "    tagname = PIL.ExifTags.TAGS.get(tagid, tagid)\n",
    " \n",
    "    # passing the tagid to get its respective value\n",
    "    tagvalue = exifdata.get(tagid)\n",
    "   \n",
    "    # printing the final result\n",
    "    print(f\"{tagid:10}: {tagname:25}: {tagvalue}\")"
   ]
  },
  {
   "cell_type": "code",
   "execution_count": 32,
   "id": "49563316-4d98-4efd-b9e4-d5448eab3217",
   "metadata": {
    "tags": []
   },
   "outputs": [
    {
     "name": "stdout",
     "output_type": "stream",
     "text": [
      "37510\n",
      "UserComment\n"
     ]
    }
   ],
   "source": [
    "print(PIL.ExifTags.Base.UserComment.value)\n",
    "print(PIL.ExifTags.Base.UserComment.name)"
   ]
  },
  {
   "cell_type": "code",
   "execution_count": null,
   "id": "0d5ce260-c444-438d-9e76-70d10e26748d",
   "metadata": {},
   "outputs": [],
   "source": []
  },
  {
   "cell_type": "code",
   "execution_count": null,
   "id": "af201836-365b-48cd-aede-872a22256905",
   "metadata": {},
   "outputs": [],
   "source": []
  },
  {
   "cell_type": "code",
   "execution_count": null,
   "id": "df66a7d8-fe5f-466e-8048-27ab4e6d9c9c",
   "metadata": {},
   "outputs": [],
   "source": []
  },
  {
   "cell_type": "code",
   "execution_count": null,
   "id": "fe659ccf-1fc1-4719-b14b-5eb7f1e89074",
   "metadata": {},
   "outputs": [],
   "source": []
  },
  {
   "cell_type": "code",
   "execution_count": null,
   "id": "9991330f-569e-4578-9402-ac4f0dc2bbc0",
   "metadata": {
    "tags": []
   },
   "outputs": [],
   "source": [
    "PageNumber = 0x0129\n",
    "print(type(PageNumber),PageNumber)"
   ]
  },
  {
   "cell_type": "code",
   "execution_count": null,
   "id": "d69a0359-8d3e-4ba0-9ee9-f5dfb175abbd",
   "metadata": {
    "tags": []
   },
   "outputs": [],
   "source": [
    "from PIL.ExifTags import GPS\n",
    "\n",
    "GPS.GPSDestLatitude.name"
   ]
  },
  {
   "cell_type": "markdown",
   "id": "b803d809-65b2-4a54-bb77-63073d435733",
   "metadata": {},
   "source": [
    "----\n",
    "## Exif format\n",
    "See [manual](https://www.media.mit.edu/pia/Research/deepview/exif.html)\n",
    "\n",
    "Every JPEG file starts from binary value '0xFFD8', ends by binary value '0xFFD9'. There are several binary 0xFFXX data in JPEG data, they are called as \"Marker\", and it means the period of JPEG information data. 0xFFD8 means SOI(Start of image), 0xFFD9 means EOI(End of image). These two special Markers have no data following, the other Markers have data with it. "
   ]
  },
  {
   "cell_type": "code",
   "execution_count": null,
   "id": "cdd11604-05c3-4d02-b6c9-dcbf37d5fdc6",
   "metadata": {
    "tags": []
   },
   "outputs": [],
   "source": [
    "# start of image data\n",
    "decimal=65496\n",
    "hexadecimal = hex(65496)\n",
    "binary = bin(65496)\n",
    "print('decimal:     ',decimal)\n",
    "print('hexadecimal: ',hexadecimal)\n",
    "print('binary:      ',binary)\n",
    "\n",
    "# end of image data\n",
    "hexadecimal = '0xFFD9'\n",
    "print('hexadecimal: ',hexadecimal)\n",
    "print('decimal:      ',int(hexadecimal,16))\n",
    "\n",
    "# exif: UserComment\n",
    "hexadecimal = '0x9286'\n",
    "print('hexadecimal: ',hexadecimal)\n",
    "print('decimal:      ',int(hexadecimal,16))"
   ]
  },
  {
   "cell_type": "markdown",
   "id": "906eabe8-c18b-41da-9df3-cfa004ca353b",
   "metadata": {},
   "source": [
    "[stackoverflow1](https://stackoverflow.com/questions/32085948/python-pil-exiftags-not-sure-what-it-is-all-about)\n",
    "\n",
    "[lon/lat](https://gist.github.com/erans/983821/e30bd051e1b1ae3cb07650f24184aa15c0037ce8)"
   ]
  },
  {
   "cell_type": "code",
   "execution_count": null,
   "id": "70f6f113-c909-4c54-8dcb-2e2c23a77190",
   "metadata": {
    "tags": []
   },
   "outputs": [],
   "source": [
    "def get_exif_data(image):\n",
    "    \"\"\"\n",
    "    Returns a dictionary from the exif data of an PIL Image item. Also converts the GPS Tags\n",
    "    \"\"\"\n",
    "    exif_data = {}\n",
    "    info = image._getexif()\n",
    "    \n",
    "    if info:\n",
    "        for tag, value in info.items():\n",
    "            decoded = PIL.ExifTags.TAGS.get(tag, tag)\n",
    "            if decoded == \"GPSInfo\":\n",
    "                gps_data = {}\n",
    "                for t in value:\n",
    "                    sub_decoded = PIL.ExifTags.GPSTAGS.get(t, t)\n",
    "                    gps_data[sub_decoded] = value[t]\n",
    "\n",
    "                exif_data[decoded] = gps_data\n",
    "            else:\n",
    "                exif_data[decoded] = value\n",
    "\n",
    "    return exif_data\n",
    "\n",
    "exif_data = get_exif_data(image)\n",
    "#print(exif_data)\n",
    "\n",
    "info = image._getexif()\n",
    "print(info[37510])\n",
    "print(hex(37510))\n",
    "print(info[0x9286])"
   ]
  },
  {
   "cell_type": "markdown",
   "id": "0e22b2c0-668e-49bb-a8bf-0592bf3a1fc6",
   "metadata": {},
   "source": [
    "[first working one](https://blog.matthewgove.com/2022/05/13/how-to-bulk-edit-your-photos-exif-data-with-10-lines-of-python)"
   ]
  },
  {
   "cell_type": "code",
   "execution_count": null,
   "id": "deb7be08-ebb8-41e6-9399-547206496540",
   "metadata": {
    "tags": []
   },
   "outputs": [],
   "source": [
    "PILLOW_TAGS = [\n",
    "    271,    # Camera Make\n",
    "    272,    # Camera Model\n",
    "    36867,  # Date/Time Photo Taken\n",
    "    315,     # Artist Name\n",
    "    33432,   # Copyright Message\n",
    "    34853,  # GPS Info\n",
    "]\n",
    "\n",
    "EXIF_TAGS = [\n",
    "    \"make\",\n",
    "    \"model\",\n",
    "    \"DateTimeOriginal\",\n",
    "    \"artist\",\n",
    "    \"copyright\",\n",
    "    \"gps_latitude\",\n",
    "    \"gps_latitude_ref\",\n",
    "    \"gps_longitude\",\n",
    "    \"gps_longitude_ref\",\n",
    "    \"gps_altitude\",\n",
    "]\n",
    "\n",
    "pillow_img = PIL.Image.open(infile)\n",
    "img_exif = pillow_img.getexif()\n",
    "\n",
    "for tag in PILLOW_TAGS:\n",
    "    print(tag)\n",
    "    try:\n",
    "        english_tag = PIL.ExifTags.TAGS[tag]\n",
    "        value = img_exif[tag]\n",
    "    except:\n",
    "        continue\n",
    "    print(\"{}: {}\".format(english_tag, value))"
   ]
  },
  {
   "cell_type": "code",
   "execution_count": null,
   "id": "92af8b1b-c21c-4f24-a458-76e4f376ef8c",
   "metadata": {
    "tags": []
   },
   "outputs": [],
   "source": [
    "PILLOW_TAGS = [\n",
    "    315,     # Artist Name\n",
    "    33432,   # Copyright Message\n",
    "]\n",
    "\n",
    "EXIF_TAGS = [\n",
    "    \"artist\",\n",
    "    \"copyright\"\n",
    "]\n",
    "\n",
    "VALUES = [\n",
    "    \"Matthew Gove\",    # Artist Name\n",
    "    \"Copyright 2022 Matthew Gove. All Rights Reserved.\"  # Copyright Message\n",
    "]"
   ]
  },
  {
   "cell_type": "code",
   "execution_count": null,
   "id": "4296c8b2-d13e-4864-a390-9df6b94b73f8",
   "metadata": {
    "tags": []
   },
   "outputs": [],
   "source": [
    "pillow_img = PIL.Image.open(infile)\n",
    "img_exif = pillow_img.getexif()\n",
    "for tag, value in zip(PILLOW_TAGS, VALUES):\n",
    "    img_exif[tag] = value\n",
    "    \n",
    "output_file = 'out.png'\n",
    "pillow_img.save(output_file, exif=img_exif)"
   ]
  },
  {
   "cell_type": "code",
   "execution_count": null,
   "id": "635749a5-8ca6-46b5-bf5e-b29b43406c31",
   "metadata": {
    "tags": []
   },
   "outputs": [],
   "source": [
    "PILLOW_TAGS = [\n",
    "    271,    # Camera Make\n",
    "    272,    # Camera Model\n",
    "    36867,  # Date/Time Photo Taken\n",
    "    315,     # Artist Name\n",
    "    33432,   # Copyright Message\n",
    "    34853,  # GPS Info\n",
    "]\n",
    "\n",
    "EXIF_TAGS = [\n",
    "    \"make\",\n",
    "    \"model\",\n",
    "    \"DateTimeOriginal\",\n",
    "    \"artist\",\n",
    "    \"copyright\",\n",
    "    \"gps_latitude\",\n",
    "    \"gps_latitude_ref\",\n",
    "    \"gps_longitude\",\n",
    "    \"gps_longitude_ref\",\n",
    "    \"gps_altitude\",\n",
    "]\n",
    "\n",
    "pillow_img = PIL.Image.open('out.png')\n",
    "img_exif = pillow_img.getexif()\n",
    "\n",
    "for tag in PILLOW_TAGS:\n",
    "    try:\n",
    "        english_tag = PIL.ExifTags.TAGS[tag]\n",
    "        value = img_exif[tag]\n",
    "    except:\n",
    "        continue\n",
    "    print(\"{}: {}\".format(english_tag, value))"
   ]
  },
  {
   "cell_type": "code",
   "execution_count": null,
   "id": "9c65d907-a5e5-4dfd-af4a-13f4b60f1198",
   "metadata": {},
   "outputs": [],
   "source": []
  },
  {
   "cell_type": "code",
   "execution_count": null,
   "id": "8cd62164-c7c0-439a-8bec-173784145449",
   "metadata": {},
   "outputs": [],
   "source": []
  },
  {
   "cell_type": "code",
   "execution_count": null,
   "id": "9fe975fc-ffc7-4c67-85d7-792ecf3e09aa",
   "metadata": {},
   "outputs": [],
   "source": []
  },
  {
   "cell_type": "code",
   "execution_count": null,
   "id": "aea2d40d-eb53-4e97-9e36-998d3d9d1309",
   "metadata": {
    "tags": []
   },
   "outputs": [],
   "source": [
    "def _get_if_exist(data, key):\n",
    "    if key in data:\n",
    "        return data[key]\n",
    "    return None"
   ]
  },
  {
   "cell_type": "code",
   "execution_count": null,
   "id": "1c1b9901-193a-4ce1-8dd4-4e7c9c610466",
   "metadata": {
    "tags": []
   },
   "outputs": [],
   "source": [
    "def get_lat_lon(exif_data):\n",
    "    \"\"\"Returns the latitude and longitude, if available, from the provided exif_data (obtained through get_exif_data above)\"\"\"\n",
    "    lat = None\n",
    "    lon = None\n",
    "\n",
    "    if \"GPSInfo\" in exif_data:\t\t\n",
    "        gps_info = exif_data[\"GPSInfo\"]\n",
    "\n",
    "        gps_latitude = _get_if_exist(gps_info, \"GPSLatitude\")\n",
    "        gps_latitude_ref = _get_if_exist(gps_info, 'GPSLatitudeRef')\n",
    "        gps_longitude = _get_if_exist(gps_info, 'GPSLongitude')\n",
    "        gps_longitude_ref = _get_if_exist(gps_info, 'GPSLongitudeRef')\n",
    "\n",
    "        if gps_latitude and gps_latitude_ref and gps_longitude and gps_longitude_ref:\n",
    "            lat = _convert_to_degress(gps_latitude)\n",
    "            if gps_latitude_ref != \"N\":                     \n",
    "                lat = 0 - lat\n",
    "\n",
    "            lon = _convert_to_degress(gps_longitude)\n",
    "            if gps_longitude_ref != \"E\":\n",
    "                lon = 0 - lon\n",
    "\n",
    "    return lat, lon\n",
    "\n",
    "lat,lon = get_lat_lon(exif_data)\n",
    "print(lat,lon)"
   ]
  },
  {
   "cell_type": "code",
   "execution_count": null,
   "id": "56fc75ca-a7a0-4d0b-b249-e6d5cb305828",
   "metadata": {},
   "outputs": [],
   "source": []
  },
  {
   "cell_type": "code",
   "execution_count": null,
   "id": "40ed6baa-42bf-43f9-b035-0737759b718a",
   "metadata": {},
   "outputs": [],
   "source": []
  },
  {
   "cell_type": "code",
   "execution_count": null,
   "id": "6b26f4ce-b83d-4e9f-8600-830c5fc68697",
   "metadata": {},
   "outputs": [],
   "source": []
  },
  {
   "cell_type": "code",
   "execution_count": null,
   "id": "ae4fde73-d73a-4c91-b169-7a125007daa6",
   "metadata": {},
   "outputs": [],
   "source": []
  },
  {
   "cell_type": "code",
   "execution_count": null,
   "id": "10056bd8-a6ac-4f9d-a7e8-cea5a04e5a4f",
   "metadata": {},
   "outputs": [],
   "source": []
  },
  {
   "cell_type": "code",
   "execution_count": 18,
   "id": "b35ba2e9-1a7d-40c0-b078-159d3a74c47a",
   "metadata": {
    "tags": []
   },
   "outputs": [
    {
     "name": "stdout",
     "output_type": "stream",
     "text": [
      "keys:  [34853, 296, 34665, 271, 272, 305, 274, 306, 531, 282, 283, 36864, 37121, 37122, 36867, 36868, 37380, 37381, 37383, 37384, 37385, 37386, 37510, 40961, 40962, 40965, 41990, 37520, 37521, 37522, 40963, 41996, 41495, 41728, 33434, 33437, 41729, 34850, 41730, 41985, 34855, 41986, 40960, 34864, 41987, 41988, 41989, 41991, 41992, 41993, 41994, 37500]\n",
      "34853 GPSInfo\n"
     ]
    }
   ],
   "source": [
    "image = PIL.Image.open(infile)\n",
    "\n",
    "info = image._getexif()\n",
    "keys = list(info.keys())\n",
    "print('keys: ',keys)\n",
    "\n",
    "print(keys[0],PIL.ExifTags.TAGS[keys[0]])"
   ]
  },
  {
   "cell_type": "code",
   "execution_count": 19,
   "id": "bd295fec-2326-42db-ba63-51b840b04df5",
   "metadata": {
    "tags": []
   },
   "outputs": [
    {
     "name": "stdout",
     "output_type": "stream",
     "text": [
      "GPSInfo : 34853 {0: b'\\x02\\x03\\x00\\x00'}\n",
      "Model : 272 NIKON D5100\n",
      "XResolution : 282 300.0\n",
      "YResolution : 283 300.0\n",
      "DateTimeOriginal : 36867 2018:10:03 15:19:14\n",
      "MaxApertureValue : 37381 5.0\n",
      "FocalLength : 37386 105.0\n",
      "UserComment : 37510 b'ASCII\\x00\\x00\\x00                                    '\n",
      "ExifImageWidth : 40962 4928\n",
      "ExifImageHeight : 40963 3264\n",
      "ExposureTime : 33434 0.0015625\n",
      "ExposureMode : 41986 0\n",
      "{'GPSVersionID': b'\\x02\\x03\\x00\\x00'}\n"
     ]
    }
   ],
   "source": [
    "import io\n",
    "image = PIL.Image.open(infile)\n",
    "\n",
    "info = image._getexif()\n",
    "if info:\n",
    "    for tag, value in info.items():\n",
    "        decoded = PIL.ExifTags.TAGS.get(tag, tag)\n",
    "        for itag in ['Model','DateTimeOriginal','XResolution','YResolution','FocalLength','ExposureTime','MaxApertureValue','ExposureMode','ExifImageWidth',\n",
    "                     'ExifImageHeight','UserComment','GPSInfo']:\n",
    "            if (decoded==itag):\n",
    "                print(decoded,':',tag,value)\n",
    "        if (decoded == \"GPSInfo\"):\n",
    "            gps_data = {}\n",
    "            for t in value:\n",
    "                gps_decoded = PIL.ExifTags.GPSTAGS.get(t, t)\n",
    "                gps_data[gps_decoded] = value[t]\n",
    "print(gps_data)"
   ]
  },
  {
   "cell_type": "code",
   "execution_count": null,
   "id": "d25d2762-81f7-4b21-8fb2-d16a72a6c6cd",
   "metadata": {
    "tags": []
   },
   "outputs": [],
   "source": [
    "if info:\n",
    "    for tag, value in info.items():\n",
    "        decoded = PIL.ExifTags.TAGS.get(tag, tag)\n",
    "        for itag in ['UserComment']:\n",
    "            if (decoded==itag):\n",
    "                print(decoded,':',tag,value)\n",
    "print(info[0x9286])     "
   ]
  },
  {
   "cell_type": "code",
   "execution_count": null,
   "id": "02673928-6af4-497b-9de8-c7436483e868",
   "metadata": {
    "tags": []
   },
   "outputs": [],
   "source": [
    "#print(info)\n",
    "info = image._getexif()\n",
    "info[0x9286] = \"test\"\n",
    "image.save(\"out.png\", exif=info)"
   ]
  },
  {
   "cell_type": "code",
   "execution_count": null,
   "id": "2758d970-2217-42cb-8960-af1f86d36a69",
   "metadata": {
    "tags": []
   },
   "outputs": [],
   "source": [
    "image1 = PIL.Image.open(infile)\n",
    "info = image1._getexif()\n",
    "print(str(info[0x9286].decode()))"
   ]
  },
  {
   "cell_type": "code",
   "execution_count": null,
   "id": "7fe6d5ce-2266-4b93-be82-c4e309fa9f1c",
   "metadata": {
    "tags": []
   },
   "outputs": [],
   "source": [
    "image1 = PIL.Image.open(infile)\n",
    "exif = image1.getexif()\n",
    "exif[0x9286] = \"test\"\n",
    "image1.save(\"out.png\", exif=exif)"
   ]
  },
  {
   "cell_type": "code",
   "execution_count": null,
   "id": "f5101093-da66-424e-b926-0c70a13d8cce",
   "metadata": {
    "tags": []
   },
   "outputs": [],
   "source": [
    "image2 = PIL.Image.open('out.png')\n",
    "info = image2._getexif()\n",
    "print(str(info[0x9286].decode()))"
   ]
  },
  {
   "cell_type": "code",
   "execution_count": null,
   "id": "df9fcdf4-a602-4485-af9f-fdc62a538d38",
   "metadata": {},
   "outputs": [],
   "source": []
  },
  {
   "cell_type": "code",
   "execution_count": null,
   "id": "c65380fc-2837-45ba-aab6-f5568959d8c0",
   "metadata": {},
   "outputs": [],
   "source": []
  },
  {
   "cell_type": "code",
   "execution_count": null,
   "id": "5c82b0cf-6c63-43ed-997a-f0fcef86928a",
   "metadata": {},
   "outputs": [],
   "source": []
  },
  {
   "cell_type": "code",
   "execution_count": null,
   "id": "a880d0c6-4e2a-4d3b-9d97-a53deb10b703",
   "metadata": {
    "tags": []
   },
   "outputs": [],
   "source": []
  },
  {
   "cell_type": "code",
   "execution_count": null,
   "id": "80f4d9c2-0f60-48ec-b224-54a80a884bee",
   "metadata": {
    "tags": []
   },
   "outputs": [],
   "source": []
  },
  {
   "cell_type": "code",
   "execution_count": null,
   "id": "817c92f4-1142-43e7-9493-0f51c01bbcfd",
   "metadata": {
    "tags": []
   },
   "outputs": [],
   "source": []
  },
  {
   "cell_type": "code",
   "execution_count": null,
   "id": "e51a9673-52b7-4e8f-94fb-2ead03d8ed65",
   "metadata": {},
   "outputs": [],
   "source": []
  },
  {
   "cell_type": "code",
   "execution_count": null,
   "id": "eca4e3d7-7b8b-4acd-a735-94fc17ad6d99",
   "metadata": {
    "tags": []
   },
   "outputs": [],
   "source": [
    "exif = image.getexif()\n",
    "exif[0x9286] = \"test\"\n",
    "image.save(\"out.png\", exif=exif)"
   ]
  },
  {
   "cell_type": "code",
   "execution_count": null,
   "id": "57a8a813-0b41-4e01-b362-8883961154c6",
   "metadata": {},
   "outputs": [],
   "source": []
  },
  {
   "cell_type": "code",
   "execution_count": null,
   "id": "45d2f069-a7cc-4b0f-be4e-22622a0974ec",
   "metadata": {},
   "outputs": [],
   "source": []
  },
  {
   "cell_type": "code",
   "execution_count": null,
   "id": "701179d1-8a57-40ce-a78f-a95bb727ba05",
   "metadata": {},
   "outputs": [],
   "source": []
  },
  {
   "cell_type": "code",
   "execution_count": null,
   "id": "e39ec55a-2710-470c-8c5c-10416748b140",
   "metadata": {
    "tags": []
   },
   "outputs": [],
   "source": [
    "image.info.keys()"
   ]
  },
  {
   "cell_type": "code",
   "execution_count": null,
   "id": "adfa8460-c1af-4c60-ae40-c4062a99cdc7",
   "metadata": {
    "tags": []
   },
   "outputs": [],
   "source": [
    "image.info['dpi'][:30]"
   ]
  },
  {
   "cell_type": "code",
   "execution_count": null,
   "id": "f848a1bd-c172-4a93-ab35-8985d08c4e18",
   "metadata": {
    "tags": []
   },
   "outputs": [],
   "source": [
    "exifd = img._getexif()\n",
    "keys = list(exifd.keys())\n",
    "print(keys)\n",
    "\n",
    "keys = [k for k in keys if k in TAGS]\n",
    "print(\"\\n\".join([TAGS[k] for k in keys]))\n",
    "\n",
    "gpsinfo = exifd[_TAGS_r[\"GPSInfo\"]]\n",
    "print(gpsinfo.keys())\n",
    "print(\"\\n\".join([str((GPSTAGS[k], gpsinfo[k])) for k in gpsinfo.keys()]))"
   ]
  },
  {
   "cell_type": "markdown",
   "id": "b6c4952f",
   "metadata": {},
   "source": [
    "The 8-bit depth of the color space results in\n",
    "$$\n",
    "2^8=256\n",
    "$$\n",
    "different colors per channel, normally addressed with the range [0,255], thus 256 integer numbers.\n",
    "\n",
    "A usual color image has, for each pixel, a triple (rgb) of a quadruple (rgba) of\n",
    "integer points for the \n",
    "<font style=\"color:red;font-weight: bold;\">red</font>, \n",
    "<font style=\"color:green;font-weight: bold;\">green</font>,\n",
    "<font style=\"color:blue;font-weight: bold;\">blue</font>\n",
    "color space, and, if present, and integer for the transparency \n",
    "<font style=\"color:black;font-weight: bold;\">a</font>."
   ]
  },
  {
   "cell_type": "markdown",
   "id": "74f13530",
   "metadata": {},
   "source": [
    "----\n",
    "## Loading\n",
    "Next, we load the png image with two libraries:\n",
    "- `imread` from the `matplotlib.image`library, opens png format natively, all other formats using the `PIL` library\n",
    "- `Image.open` from the `PIL` library.\n",
    "\n",
    "###  `imread`\n",
    "\n",
    "After reading the file with the `imread` function from matplotlib, we receive a\n",
    "3D numpy array, with **floating-point** numbers, the first and second dimension the \n",
    "pixel rows and columns, and the third dimension the color (rgb) and tansparency\n",
    "(a) channels.\n",
    "\n",
    "**Note:** While all other image formats result in an int8 array, only the png file format\n",
    "is natively read in as float, scaled between [0,1] instead of [0,255]."
   ]
  },
  {
   "cell_type": "code",
   "execution_count": null,
   "id": "3f5a0cb2",
   "metadata": {
    "tags": []
   },
   "outputs": [],
   "source": [
    "# load image \n",
    "image = mpimg.imread(infile)\n",
    "print (type(image),image.ndim,image.dtype,image.shape)\n",
    "print(image[0][0])\n",
    "\n",
    "# show image\n",
    "fig,axs = plt.subplots(1,1)\n",
    "axs.imshow(image)"
   ]
  },
  {
   "cell_type": "markdown",
   "id": "2dc33ec6",
   "metadata": {},
   "source": [
    "###  `Image.read`\n",
    "\n",
    "After reading the file with the `Image.read` function from PIL, we receive a\n",
    "PIL object, whose features can be analysed. e.g. with `.format`, `.size`, or `.mode`.\n",
    "\n",
    "For using our own image manipulation within numpy and scipy, we need to convert\n",
    "the PIL object first to a numpy array, using `asarray`.\n",
    "\n",
    "\n",
    "Then we obtain a 3D numpy array, with **integer** numbers, the first and second dimension the \n",
    "pixel rows and columns, and the third dimension the color (rgb) and tansparency\n",
    "(a) channels.\n",
    "\n",
    "**Note:** Now, the the png file format\n",
    "is integer within the range [0,255]."
   ]
  },
  {
   "cell_type": "code",
   "execution_count": null,
   "id": "9a4ca408",
   "metadata": {},
   "outputs": [],
   "source": [
    "image = PIL.Image.open(infile)\n",
    "print (image.format,image.size,image.mode)\n",
    "# convert to ndarray\n",
    "image_arr = np.asarray(image)\n",
    "print (type(image_arr),image_arr.dtype,image_arr.ndim,image_arr.shape)\n",
    "print(image_arr[0][0])\n",
    "\n",
    "# show image\n",
    "fig,axs = plt.subplots(1,1)\n",
    "axs.imshow(image_arr)"
   ]
  },
  {
   "cell_type": "markdown",
   "id": "ab28790d",
   "metadata": {},
   "source": [
    "----"
   ]
  }
 ],
 "metadata": {
  "kernelspec": {
   "display_name": "Python 3 (ipykernel)",
   "language": "python",
   "name": "python3"
  },
  "language_info": {
   "codemirror_mode": {
    "name": "ipython",
    "version": 3
   },
   "file_extension": ".py",
   "mimetype": "text/x-python",
   "name": "python",
   "nbconvert_exporter": "python",
   "pygments_lexer": "ipython3",
   "version": "3.11.3"
  }
 },
 "nbformat": 4,
 "nbformat_minor": 5
}
