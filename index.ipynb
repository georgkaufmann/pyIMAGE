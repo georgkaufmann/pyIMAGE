{
 "cells": [
  {
   "cell_type": "markdown",
   "metadata": {},
   "source": [
    "<table>\n",
    "<tr><td><img style=\"height: 150px;\" src=\"images/geo_hydro1.jpg\"></td>\n",
    "<td bgcolor=\"#FFFFFF\">\n",
    "    <p style=\"font-size: xx-large; font-weight: 900; line-height: 100%\">pyIMAGE</p>\n",
    "    <p style=\"font-size: large; color: rgba(0,0,0,0.5);\"><b style=color:red;>Image</b> analysis</p>\n",
    "    <p style=\"font-size: large; color: rgba(0,0,0,0.5);\">Georg Kaufmann</p>\n",
    "    </td>\n",
    "<td><img style=\"height: 150px;\" src=\"images/pyIMAGE.png\"></td>\n",
    "</tr>\n",
    "</table>\n",
    "\n",
    "----\n",
    "# `pyIMAGE`\n",
    "\n",
    "pyIMAGE, a program package for examining the **structure** of images, analyse different **filtering techniques**,\n",
    "and use **artificial data** to create an image as data storage."
   ]
  },
  {
   "cell_type": "markdown",
   "metadata": {},
   "source": [
    "# Image processing\n",
    "----\n",
    "*Georg Kaufmann,\n",
    "Geophysics Section,\n",
    "Institute of Geological Sciences,\n",
    "Freie Universität Berlin,\n",
    "Germany*\n",
    "\n",
    "**jupyter notebooks** on **image processing** and **image filtering**. \n",
    "\n",
    "\n",
    "\n",
    "----\n",
    "## Content\n",
    "\n",
    "- Loading and filtering images\n",
    "    - [Load](pyIMAGE_01_image_load.ipynb)\n",
    "    - [Channels](pyIMAGE_01_image_channels.ipynb)\n",
    "    - [Grayscale](pyIMAGE_01_image_grayscale.ipynb)\n",
    "    - [Convolution filter](pyIMAGE_01_image_convolution.ipynb)\n",
    "    - [FFT filter](pyIMAGE_01_image_FFT.ipynb)\n",
    "- Synthetic images\n",
    "    - [Creating image from functions](pyIMAGE_02_functions_create.ipynb)\n",
    "    - [Recover functions from image](pyIMAGE_02_functions_recover.ipynb)\n",
    "- Geophysical data to image\n",
    "    - [Walpenreuth to image](pyIMAGE_03_geophys_Walpenreuth1.ipynb)\n",
    "    - [Walpenreuth recovered](pyIMAGE_03_geophys_Walpenreuth2.ipynb)\n",
    "- ASCII art\n",
    "    - [Ascii art](pyIMAGE_04_ascii1.ipynb)"
   ]
  },
  {
   "cell_type": "markdown",
   "metadata": {},
   "source": [
    "----"
   ]
  }
 ],
 "metadata": {
  "kernelspec": {
   "display_name": "Python 3 (ipykernel)",
   "language": "python",
   "name": "python3"
  },
  "language_info": {
   "codemirror_mode": {
    "name": "ipython",
    "version": 3
   },
   "file_extension": ".py",
   "mimetype": "text/x-python",
   "name": "python",
   "nbconvert_exporter": "python",
   "pygments_lexer": "ipython3",
   "version": "3.11.3"
  }
 },
 "nbformat": 4,
 "nbformat_minor": 4
}
